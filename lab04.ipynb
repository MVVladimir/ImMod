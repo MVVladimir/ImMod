{
 "cells": [
  {
   "cell_type": "markdown",
   "metadata": {},
   "source": [
    "# **Лабораторная работа №4**\n",
    "**Автор: Машуров В. В., группа БПМ-19-3**"
   ]
  },
  {
   "cell_type": "code",
   "execution_count": 123,
   "metadata": {},
   "outputs": [],
   "source": [
    "import pandas as pd\n",
    "import seaborn as sns\n",
    "import matplotlib.pyplot as plt"
   ]
  },
  {
   "cell_type": "markdown",
   "metadata": {},
   "source": [
    "Собираю статистику из таблицы в excel"
   ]
  },
  {
   "cell_type": "code",
   "execution_count": 124,
   "metadata": {},
   "outputs": [
    {
     "name": "stderr",
     "output_type": "stream",
     "text": [
      "c:\\Users\\VladimirMashurov\\AppData\\Local\\Programs\\Python\\Python39\\lib\\site-packages\\openpyxl\\styles\\stylesheet.py:226: UserWarning: Workbook contains no default style, apply openpyxl's default\n",
      "  warn(\"Workbook contains no default style, apply openpyxl's default\")\n"
     ]
    }
   ],
   "source": [
    "statistics_log = pd.read_excel('statistics.xlsx', sheet_name='statistics_log')\n",
    "agent_type_statechart_stats_log = pd.read_excel('statistics.xlsx', sheet_name='agent_type_statechart_stats_lo')"
   ]
  },
  {
   "cell_type": "code",
   "execution_count": 125,
   "metadata": {},
   "outputs": [
    {
     "data": {
      "text/html": [
       "<div>\n",
       "<style scoped>\n",
       "    .dataframe tbody tr th:only-of-type {\n",
       "        vertical-align: middle;\n",
       "    }\n",
       "\n",
       "    .dataframe tbody tr th {\n",
       "        vertical-align: top;\n",
       "    }\n",
       "\n",
       "    .dataframe thead th {\n",
       "        text-align: right;\n",
       "    }\n",
       "</style>\n",
       "<table border=\"1\" class=\"dataframe\">\n",
       "  <thead>\n",
       "    <tr style=\"text-align: right;\">\n",
       "      <th></th>\n",
       "      <th>agent type</th>\n",
       "      <th>statechart</th>\n",
       "      <th>state</th>\n",
       "      <th>mean seconds</th>\n",
       "      <th>total seconds</th>\n",
       "      <th>min seconds</th>\n",
       "      <th>max seconds</th>\n",
       "      <th>n entries</th>\n",
       "    </tr>\n",
       "  </thead>\n",
       "  <tbody>\n",
       "    <tr>\n",
       "      <th>0</th>\n",
       "      <td>Cook</td>\n",
       "      <td>statechart</td>\n",
       "      <td>Busy</td>\n",
       "      <td>196.537774</td>\n",
       "      <td>6.786449e+05</td>\n",
       "      <td>0.017</td>\n",
       "      <td>2155.575</td>\n",
       "      <td>3453.0</td>\n",
       "    </tr>\n",
       "    <tr>\n",
       "      <th>1</th>\n",
       "      <td>Cook</td>\n",
       "      <td>statechart</td>\n",
       "      <td>Free</td>\n",
       "      <td>42.594842</td>\n",
       "      <td>1.475485e+05</td>\n",
       "      <td>0.000</td>\n",
       "      <td>527.545</td>\n",
       "      <td>3464.0</td>\n",
       "    </tr>\n",
       "    <tr>\n",
       "      <th>2</th>\n",
       "      <td>Cook</td>\n",
       "      <td>statechart</td>\n",
       "      <td>idle</td>\n",
       "      <td>30599.758000</td>\n",
       "      <td>8.261935e+05</td>\n",
       "      <td>30599.758</td>\n",
       "      <td>30599.758</td>\n",
       "      <td>27.0</td>\n",
       "    </tr>\n",
       "    <tr>\n",
       "      <th>3</th>\n",
       "      <td>Customer</td>\n",
       "      <td>statechart</td>\n",
       "      <td>InLine</td>\n",
       "      <td>473.005133</td>\n",
       "      <td>2.740592e+06</td>\n",
       "      <td>0.147</td>\n",
       "      <td>1021.444</td>\n",
       "      <td>5794.0</td>\n",
       "    </tr>\n",
       "    <tr>\n",
       "      <th>4</th>\n",
       "      <td>Customer</td>\n",
       "      <td>statechart</td>\n",
       "      <td>InServe</td>\n",
       "      <td>196.537774</td>\n",
       "      <td>6.786449e+05</td>\n",
       "      <td>0.017</td>\n",
       "      <td>2155.575</td>\n",
       "      <td>3453.0</td>\n",
       "    </tr>\n",
       "    <tr>\n",
       "      <th>5</th>\n",
       "      <td>Customer</td>\n",
       "      <td>statechart</td>\n",
       "      <td>NotServed</td>\n",
       "      <td>14250.378386</td>\n",
       "      <td>5.913907e+06</td>\n",
       "      <td>1.885</td>\n",
       "      <td>30149.758</td>\n",
       "      <td>415.0</td>\n",
       "    </tr>\n",
       "    <tr>\n",
       "      <th>6</th>\n",
       "      <td>Customer</td>\n",
       "      <td>statechart</td>\n",
       "      <td>Served</td>\n",
       "      <td>15409.965351</td>\n",
       "      <td>5.296405e+07</td>\n",
       "      <td>0.000</td>\n",
       "      <td>30560.116</td>\n",
       "      <td>3437.0</td>\n",
       "    </tr>\n",
       "    <tr>\n",
       "      <th>7</th>\n",
       "      <td>Customer</td>\n",
       "      <td>statechart</td>\n",
       "      <td>branch</td>\n",
       "      <td>15426.880094</td>\n",
       "      <td>6.129099e+07</td>\n",
       "      <td>1.236</td>\n",
       "      <td>30599.758</td>\n",
       "      <td>3973.0</td>\n",
       "    </tr>\n",
       "    <tr>\n",
       "      <th>8</th>\n",
       "      <td>Main</td>\n",
       "      <td>statechart</td>\n",
       "      <td>Exist</td>\n",
       "      <td>30599.758000</td>\n",
       "      <td>3.059976e+04</td>\n",
       "      <td>30599.758</td>\n",
       "      <td>30599.758</td>\n",
       "      <td>1.0</td>\n",
       "    </tr>\n",
       "  </tbody>\n",
       "</table>\n",
       "</div>"
      ],
      "text/plain": [
       "  agent type  statechart      state  mean seconds  total seconds  min seconds  \\\n",
       "0       Cook  statechart       Busy    196.537774   6.786449e+05        0.017   \n",
       "1       Cook  statechart       Free     42.594842   1.475485e+05        0.000   \n",
       "2       Cook  statechart       idle  30599.758000   8.261935e+05    30599.758   \n",
       "3   Customer  statechart     InLine    473.005133   2.740592e+06        0.147   \n",
       "4   Customer  statechart    InServe    196.537774   6.786449e+05        0.017   \n",
       "5   Customer  statechart  NotServed  14250.378386   5.913907e+06        1.885   \n",
       "6   Customer  statechart     Served  15409.965351   5.296405e+07        0.000   \n",
       "7   Customer  statechart     branch  15426.880094   6.129099e+07        1.236   \n",
       "8       Main  statechart      Exist  30599.758000   3.059976e+04    30599.758   \n",
       "\n",
       "   max seconds  n entries  \n",
       "0     2155.575     3453.0  \n",
       "1      527.545     3464.0  \n",
       "2    30599.758       27.0  \n",
       "3     1021.444     5794.0  \n",
       "4     2155.575     3453.0  \n",
       "5    30149.758      415.0  \n",
       "6    30560.116     3437.0  \n",
       "7    30599.758     3973.0  \n",
       "8    30599.758        1.0  "
      ]
     },
     "execution_count": 125,
     "metadata": {},
     "output_type": "execute_result"
    }
   ],
   "source": [
    "agent_type_statechart_stats_log"
   ]
  },
  {
   "cell_type": "markdown",
   "metadata": {},
   "source": [
    "Выбираю из таблицы данные по суммарному числу объектов в модели"
   ]
  },
  {
   "cell_type": "code",
   "execution_count": 126,
   "metadata": {},
   "outputs": [],
   "source": [
    "agent_type_statechart_stats_all_log = agent_type_statechart_stats_log[agent_type_statechart_stats_log[\"state\"].isin([\"Served\", \"NotServed\", \"Exist\", \"idle\"])]\n",
    "agent_type_entries = agent_type_statechart_stats_all_log[[\"agent type\", \"n entries\"]]"
   ]
  },
  {
   "cell_type": "code",
   "execution_count": 127,
   "metadata": {},
   "outputs": [
    {
     "data": {
      "text/html": [
       "<div>\n",
       "<style scoped>\n",
       "    .dataframe tbody tr th:only-of-type {\n",
       "        vertical-align: middle;\n",
       "    }\n",
       "\n",
       "    .dataframe tbody tr th {\n",
       "        vertical-align: top;\n",
       "    }\n",
       "\n",
       "    .dataframe thead th {\n",
       "        text-align: right;\n",
       "    }\n",
       "</style>\n",
       "<table border=\"1\" class=\"dataframe\">\n",
       "  <thead>\n",
       "    <tr style=\"text-align: right;\">\n",
       "      <th></th>\n",
       "      <th>agent type</th>\n",
       "      <th>n entries</th>\n",
       "    </tr>\n",
       "  </thead>\n",
       "  <tbody>\n",
       "    <tr>\n",
       "      <th>2</th>\n",
       "      <td>Cook</td>\n",
       "      <td>27.0</td>\n",
       "    </tr>\n",
       "    <tr>\n",
       "      <th>5</th>\n",
       "      <td>Customer</td>\n",
       "      <td>415.0</td>\n",
       "    </tr>\n",
       "    <tr>\n",
       "      <th>6</th>\n",
       "      <td>Customer</td>\n",
       "      <td>3437.0</td>\n",
       "    </tr>\n",
       "    <tr>\n",
       "      <th>8</th>\n",
       "      <td>Main</td>\n",
       "      <td>1.0</td>\n",
       "    </tr>\n",
       "  </tbody>\n",
       "</table>\n",
       "</div>"
      ],
      "text/plain": [
       "  agent type  n entries\n",
       "2       Cook       27.0\n",
       "5   Customer      415.0\n",
       "6   Customer     3437.0\n",
       "8       Main        1.0"
      ]
     },
     "execution_count": 127,
     "metadata": {},
     "output_type": "execute_result"
    }
   ],
   "source": [
    "agent_type_entries"
   ]
  },
  {
   "cell_type": "code",
   "execution_count": 128,
   "metadata": {},
   "outputs": [
    {
     "data": {
      "text/html": [
       "<div>\n",
       "<style scoped>\n",
       "    .dataframe tbody tr th:only-of-type {\n",
       "        vertical-align: middle;\n",
       "    }\n",
       "\n",
       "    .dataframe tbody tr th {\n",
       "        vertical-align: top;\n",
       "    }\n",
       "\n",
       "    .dataframe thead th {\n",
       "        text-align: right;\n",
       "    }\n",
       "</style>\n",
       "<table border=\"1\" class=\"dataframe\">\n",
       "  <thead>\n",
       "    <tr style=\"text-align: right;\">\n",
       "      <th></th>\n",
       "      <th>agent type</th>\n",
       "      <th>n entries</th>\n",
       "    </tr>\n",
       "  </thead>\n",
       "  <tbody>\n",
       "    <tr>\n",
       "      <th>2</th>\n",
       "      <td>Cook</td>\n",
       "      <td>27.0</td>\n",
       "    </tr>\n",
       "    <tr>\n",
       "      <th>5</th>\n",
       "      <td>Customer</td>\n",
       "      <td>415.0</td>\n",
       "    </tr>\n",
       "    <tr>\n",
       "      <th>6</th>\n",
       "      <td>Customer</td>\n",
       "      <td>3437.0</td>\n",
       "    </tr>\n",
       "    <tr>\n",
       "      <th>8</th>\n",
       "      <td>Main</td>\n",
       "      <td>1.0</td>\n",
       "    </tr>\n",
       "  </tbody>\n",
       "</table>\n",
       "</div>"
      ],
      "text/plain": [
       "  agent type  n entries\n",
       "2       Cook       27.0\n",
       "5   Customer      415.0\n",
       "6   Customer     3437.0\n",
       "8       Main        1.0"
      ]
     },
     "execution_count": 128,
     "metadata": {},
     "output_type": "execute_result"
    }
   ],
   "source": [
    "agent_type_entries"
   ]
  },
  {
   "cell_type": "code",
   "execution_count": 129,
   "metadata": {},
   "outputs": [],
   "source": [
    "customers_entries = agent_type_entries[agent_type_entries[\"agent type\"] == \"Customer\"][\"n entries\"].sum()\n",
    "agent_type_entries = agent_type_entries.drop([5, 6])\n",
    "agent_type_entries = agent_type_entries.append({\"agent type\" : \"Customer\", \"n entries\" : customers_entries}, ignore_index=True)"
   ]
  },
  {
   "cell_type": "markdown",
   "metadata": {},
   "source": [
    "Число агентов каждого типа"
   ]
  },
  {
   "cell_type": "code",
   "execution_count": 130,
   "metadata": {},
   "outputs": [
    {
     "data": {
      "text/html": [
       "<div>\n",
       "<style scoped>\n",
       "    .dataframe tbody tr th:only-of-type {\n",
       "        vertical-align: middle;\n",
       "    }\n",
       "\n",
       "    .dataframe tbody tr th {\n",
       "        vertical-align: top;\n",
       "    }\n",
       "\n",
       "    .dataframe thead th {\n",
       "        text-align: right;\n",
       "    }\n",
       "</style>\n",
       "<table border=\"1\" class=\"dataframe\">\n",
       "  <thead>\n",
       "    <tr style=\"text-align: right;\">\n",
       "      <th></th>\n",
       "      <th>agent type</th>\n",
       "      <th>n entries</th>\n",
       "    </tr>\n",
       "  </thead>\n",
       "  <tbody>\n",
       "    <tr>\n",
       "      <th>0</th>\n",
       "      <td>Cook</td>\n",
       "      <td>27.0</td>\n",
       "    </tr>\n",
       "    <tr>\n",
       "      <th>1</th>\n",
       "      <td>Main</td>\n",
       "      <td>1.0</td>\n",
       "    </tr>\n",
       "    <tr>\n",
       "      <th>2</th>\n",
       "      <td>Customer</td>\n",
       "      <td>3852.0</td>\n",
       "    </tr>\n",
       "  </tbody>\n",
       "</table>\n",
       "</div>"
      ],
      "text/plain": [
       "  agent type  n entries\n",
       "0       Cook       27.0\n",
       "1       Main        1.0\n",
       "2   Customer     3852.0"
      ]
     },
     "execution_count": 130,
     "metadata": {},
     "output_type": "execute_result"
    }
   ],
   "source": [
    "agent_type_entries"
   ]
  },
  {
   "cell_type": "code",
   "execution_count": 131,
   "metadata": {},
   "outputs": [
    {
     "data": {
      "text/html": [
       "<div>\n",
       "<style scoped>\n",
       "    .dataframe tbody tr th:only-of-type {\n",
       "        vertical-align: middle;\n",
       "    }\n",
       "\n",
       "    .dataframe tbody tr th {\n",
       "        vertical-align: top;\n",
       "    }\n",
       "\n",
       "    .dataframe thead th {\n",
       "        text-align: right;\n",
       "    }\n",
       "</style>\n",
       "<table border=\"1\" class=\"dataframe\">\n",
       "  <thead>\n",
       "    <tr style=\"text-align: right;\">\n",
       "      <th></th>\n",
       "      <th>agent type</th>\n",
       "      <th>state</th>\n",
       "      <th>mean seconds</th>\n",
       "      <th>min seconds</th>\n",
       "      <th>max seconds</th>\n",
       "    </tr>\n",
       "  </thead>\n",
       "  <tbody>\n",
       "    <tr>\n",
       "      <th>0</th>\n",
       "      <td>Cook</td>\n",
       "      <td>Busy</td>\n",
       "      <td>196.537774</td>\n",
       "      <td>0.017</td>\n",
       "      <td>2155.575</td>\n",
       "    </tr>\n",
       "    <tr>\n",
       "      <th>1</th>\n",
       "      <td>Cook</td>\n",
       "      <td>Free</td>\n",
       "      <td>42.594842</td>\n",
       "      <td>0.000</td>\n",
       "      <td>527.545</td>\n",
       "    </tr>\n",
       "    <tr>\n",
       "      <th>2</th>\n",
       "      <td>Cook</td>\n",
       "      <td>idle</td>\n",
       "      <td>30599.758000</td>\n",
       "      <td>30599.758</td>\n",
       "      <td>30599.758</td>\n",
       "    </tr>\n",
       "    <tr>\n",
       "      <th>3</th>\n",
       "      <td>Customer</td>\n",
       "      <td>InLine</td>\n",
       "      <td>473.005133</td>\n",
       "      <td>0.147</td>\n",
       "      <td>1021.444</td>\n",
       "    </tr>\n",
       "    <tr>\n",
       "      <th>4</th>\n",
       "      <td>Customer</td>\n",
       "      <td>InServe</td>\n",
       "      <td>196.537774</td>\n",
       "      <td>0.017</td>\n",
       "      <td>2155.575</td>\n",
       "    </tr>\n",
       "  </tbody>\n",
       "</table>\n",
       "</div>"
      ],
      "text/plain": [
       "  agent type    state  mean seconds  min seconds  max seconds\n",
       "0       Cook     Busy    196.537774        0.017     2155.575\n",
       "1       Cook     Free     42.594842        0.000      527.545\n",
       "2       Cook     idle  30599.758000    30599.758    30599.758\n",
       "3   Customer   InLine    473.005133        0.147     1021.444\n",
       "4   Customer  InServe    196.537774        0.017     2155.575"
      ]
     },
     "execution_count": 131,
     "metadata": {},
     "output_type": "execute_result"
    }
   ],
   "source": [
    "mean_time_stat_data = agent_type_statechart_stats_log[[\"agent type\", \"state\", \"mean seconds\", \"min seconds\", \"max seconds\"]]\n",
    "mean_time_stat_data.head()"
   ]
  },
  {
   "cell_type": "code",
   "execution_count": 132,
   "metadata": {},
   "outputs": [
    {
     "name": "stderr",
     "output_type": "stream",
     "text": [
      "C:\\Users\\VLADIM~1\\AppData\\Local\\Temp/ipykernel_3148/4227571110.py:3: SettingWithCopyWarning: \n",
      "A value is trying to be set on a copy of a slice from a DataFrame.\n",
      "Try using .loc[row_indexer,col_indexer] = value instead\n",
      "\n",
      "See the caveats in the documentation: https://pandas.pydata.org/pandas-docs/stable/user_guide/indexing.html#returning-a-view-versus-a-copy\n",
      "  service_time_data[\"mean minutes\"] = service_time_data[\"mean seconds\"] / 60\n",
      "C:\\Users\\VLADIM~1\\AppData\\Local\\Temp/ipykernel_3148/4227571110.py:7: SettingWithCopyWarning: \n",
      "A value is trying to be set on a copy of a slice from a DataFrame.\n",
      "Try using .loc[row_indexer,col_indexer] = value instead\n",
      "\n",
      "See the caveats in the documentation: https://pandas.pydata.org/pandas-docs/stable/user_guide/indexing.html#returning-a-view-versus-a-copy\n",
      "  customer_time_data[\"mean minutes\"] = customer_time_data[\"mean seconds\"] / 60\n"
     ]
    },
    {
     "data": {
      "text/html": [
       "<div>\n",
       "<style scoped>\n",
       "    .dataframe tbody tr th:only-of-type {\n",
       "        vertical-align: middle;\n",
       "    }\n",
       "\n",
       "    .dataframe tbody tr th {\n",
       "        vertical-align: top;\n",
       "    }\n",
       "\n",
       "    .dataframe thead th {\n",
       "        text-align: right;\n",
       "    }\n",
       "</style>\n",
       "<table border=\"1\" class=\"dataframe\">\n",
       "  <thead>\n",
       "    <tr style=\"text-align: right;\">\n",
       "      <th></th>\n",
       "      <th>agent type</th>\n",
       "      <th>state</th>\n",
       "      <th>mean seconds</th>\n",
       "      <th>min seconds</th>\n",
       "      <th>max seconds</th>\n",
       "      <th>mean minutes</th>\n",
       "    </tr>\n",
       "  </thead>\n",
       "  <tbody>\n",
       "    <tr>\n",
       "      <th>3</th>\n",
       "      <td>Customer</td>\n",
       "      <td>InLine</td>\n",
       "      <td>473.005133</td>\n",
       "      <td>0.147</td>\n",
       "      <td>1021.444</td>\n",
       "      <td>7.883419</td>\n",
       "    </tr>\n",
       "    <tr>\n",
       "      <th>4</th>\n",
       "      <td>Customer</td>\n",
       "      <td>InServe</td>\n",
       "      <td>196.537774</td>\n",
       "      <td>0.017</td>\n",
       "      <td>2155.575</td>\n",
       "      <td>3.275630</td>\n",
       "    </tr>\n",
       "  </tbody>\n",
       "</table>\n",
       "</div>"
      ],
      "text/plain": [
       "  agent type    state  mean seconds  min seconds  max seconds  mean minutes\n",
       "3   Customer   InLine    473.005133        0.147     1021.444      7.883419\n",
       "4   Customer  InServe    196.537774        0.017     2155.575      3.275630"
      ]
     },
     "execution_count": 132,
     "metadata": {},
     "output_type": "execute_result"
    }
   ],
   "source": [
    "service_time_data = mean_time_stat_data[mean_time_stat_data[\"agent type\"] == \"Cook\"]\n",
    "service_time_data = mean_time_stat_data[mean_time_stat_data[\"state\"].isin([\"Free\", \"Busy\"])]\n",
    "service_time_data[\"mean minutes\"] = service_time_data[\"mean seconds\"] / 60\n",
    "\n",
    "customer_time_data = mean_time_stat_data[mean_time_stat_data[\"agent type\"] == \"Customer\"]\n",
    "customer_time_data = mean_time_stat_data[mean_time_stat_data[\"state\"].isin([\"InLine\", \"InServe\"])]\n",
    "customer_time_data[\"mean minutes\"] = customer_time_data[\"mean seconds\"] / 60\n",
    "customer_time_data"
   ]
  },
  {
   "cell_type": "code",
   "execution_count": 133,
   "metadata": {},
   "outputs": [
    {
     "data": {
      "text/plain": [
       "Text(0.5, 1.0, 'Среднее время в состоянии')"
      ]
     },
     "execution_count": 133,
     "metadata": {},
     "output_type": "execute_result"
    },
    {
     "data": {
      "image/png": "[encoded data removed]",
      "text/plain": [
       "<Figure size 360x360 with 1 Axes>"
      ]
     },
     "metadata": {
      "needs_background": "light"
     },
     "output_type": "display_data"
    }
   ],
   "source": [
    "sns.set_context(\"paper\", rc={\"axes.labelsize\": 15})\n",
    "pl = sns.catplot(x=\"state\", y=\"mean minutes\", kind=\"bar\",\n",
    "                 palette=\"hot\", data=customer_time_data)\n",
    "pl.set_xticklabels(fontsize=15)\n",
    "pl.set_yticklabels(fontsize=15)\n",
    "plt.title(\"Среднее время в состоянии\")"
   ]
  },
  {
   "cell_type": "code",
   "execution_count": 134,
   "metadata": {},
   "outputs": [
    {
     "data": {
      "text/html": [
       "<div>\n",
       "<style scoped>\n",
       "    .dataframe tbody tr th:only-of-type {\n",
       "        vertical-align: middle;\n",
       "    }\n",
       "\n",
       "    .dataframe tbody tr th {\n",
       "        vertical-align: top;\n",
       "    }\n",
       "\n",
       "    .dataframe thead th {\n",
       "        text-align: right;\n",
       "    }\n",
       "</style>\n",
       "<table border=\"1\" class=\"dataframe\">\n",
       "  <thead>\n",
       "    <tr style=\"text-align: right;\">\n",
       "      <th></th>\n",
       "      <th>agent type</th>\n",
       "      <th>state</th>\n",
       "      <th>mean seconds</th>\n",
       "      <th>min seconds</th>\n",
       "      <th>max seconds</th>\n",
       "      <th>mean minutes</th>\n",
       "    </tr>\n",
       "  </thead>\n",
       "  <tbody>\n",
       "    <tr>\n",
       "      <th>0</th>\n",
       "      <td>Cook</td>\n",
       "      <td>Busy</td>\n",
       "      <td>196.537774</td>\n",
       "      <td>0.017</td>\n",
       "      <td>2155.575</td>\n",
       "      <td>3.275630</td>\n",
       "    </tr>\n",
       "    <tr>\n",
       "      <th>1</th>\n",
       "      <td>Cook</td>\n",
       "      <td>Free</td>\n",
       "      <td>42.594842</td>\n",
       "      <td>0.000</td>\n",
       "      <td>527.545</td>\n",
       "      <td>0.709914</td>\n",
       "    </tr>\n",
       "  </tbody>\n",
       "</table>\n",
       "</div>"
      ],
      "text/plain": [
       "  agent type state  mean seconds  min seconds  max seconds  mean minutes\n",
       "0       Cook  Busy    196.537774        0.017     2155.575      3.275630\n",
       "1       Cook  Free     42.594842        0.000      527.545      0.709914"
      ]
     },
     "execution_count": 134,
     "metadata": {},
     "output_type": "execute_result"
    }
   ],
   "source": [
    "service_time_data"
   ]
  },
  {
   "cell_type": "code",
   "execution_count": 135,
   "metadata": {},
   "outputs": [
    {
     "data": {
      "text/plain": [
       "Text(0.5, 1.0, 'Среднее время в состоянии')"
      ]
     },
     "execution_count": 135,
     "metadata": {},
     "output_type": "execute_result"
    },
    {
     "data": {
      "image/png": "[encoded data removed]",
      "text/plain": [
       "<Figure size 360x360 with 1 Axes>"
      ]
     },
     "metadata": {
      "needs_background": "light"
     },
     "output_type": "display_data"
    }
   ],
   "source": [
    "sns.set_context(\"paper\", rc={\"axes.labelsize\": 15})\n",
    "pl = sns.catplot(x=\"state\", y=\"mean minutes\", kind=\"bar\",\n",
    "                 palette=\"Blues\", data=service_time_data)\n",
    "pl.set_xticklabels(fontsize=15)\n",
    "pl.set_yticklabels(fontsize=15)\n",
    "plt.title(\"Среднее время в состоянии\")"
   ]
  },
  {
   "cell_type": "code",
   "execution_count": null,
   "metadata": {},
   "outputs": [],
   "source": []
  }
 ],
 "metadata": {
  "interpreter": {
   "hash": "0dcd72d83d275a2c92221b0d8b7d79efa6197eddcd61bb8ea90916dd58c9e3eb"
  },
  "kernelspec": {
   "display_name": "Python 3.9.6 64-bit",
   "language": "python",
   "name": "python3"
  },
  "language_info": {
   "codemirror_mode": {
    "name": "ipython",
    "version": 3
   },
   "file_extension": ".py",
   "mimetype": "text/x-python",
   "name": "python",
   "nbconvert_exporter": "python",
   "pygments_lexer": "ipython3",
   "version": "3.9.6"
  },
  "orig_nbformat": 4
 },
 "nbformat": 4,
 "nbformat_minor": 2
}
